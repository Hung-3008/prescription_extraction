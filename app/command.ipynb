version https://git-lfs.github.com/spec/v1
oid sha256:da93c02a1c3e1dde01ce46166beaf9e631312c0186d4bb9be8a0dd4ff6677894
size 371824
